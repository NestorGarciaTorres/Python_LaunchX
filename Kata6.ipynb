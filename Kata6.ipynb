{
 "cells": [
  {
   "cell_type": "markdown",
   "metadata": {},
   "source": [
    "# Ejercicio 1 - Crear y usar listas de Python\n",
    "Realizar un programa que permita crear una lista de planetas.\n",
    "1. Crear una variable denominada `planets`. Agrega los ocho planetas (sin Plutón) a la lista. A continuación, muestra el número de planetas.\n",
    "2. Agrega a plutón a la lista que creaste. Luego muestra tanto el número de planetas como el ñultimo planeta de la lista."
   ]
  },
  {
   "cell_type": "code",
   "execution_count": 3,
   "metadata": {},
   "outputs": [
    {
     "name": "stdout",
     "output_type": "stream",
     "text": [
      "Hay 8 planetas en la lista\n",
      "Plutón es el último planeta de la lista\n"
     ]
    }
   ],
   "source": [
    "# Creamos la lista planetas y la mostramos\n",
    "planetas = ['Mercurio', 'Venus', 'Tierra', 'Marte', 'Júpiter', 'Saturno', 'Urano','Neptuno']\n",
    "# Mostrar el número de planetas\n",
    "print('Hay', len(planetas), 'planetas en la lista')\n",
    "\n",
    "# Agregar a plutón y mostrar el último elemento de la lista\n",
    "planetas.append('Plutón') #.append permite ingresar un nuevo valor a la lista\n",
    "print(planetas[-1], 'es el último planeta de la lista')"
   ]
  },
  {
   "cell_type": "markdown",
   "metadata": {},
   "source": [
    "# Ejercicio 1 - Trabajando con datos de una lista\n",
    "Realizar un programa que permita mostrar los planetas más cerca y más lejos del sol de un planeta que el usuario ingresa por teclado.\n",
    "1. Agregar la lista de planetas.\n",
    "2. Solicitar al usuario el nombre de un planeta.\n",
    "3. Encontrar al planeta solicitado por el usuario en la lista.\n",
    "4. Mostrar los planetas más cercanos al sol que el que el usuario ingresó.\n"
   ]
  },
  {
   "cell_type": "code",
   "execution_count": 5,
   "metadata": {},
   "outputs": [
    {
     "name": "stdout",
     "output_type": "stream",
     "text": [
      "Estos son los planetas que son más cercanos al sol que  Tierra\n",
      "['Mercurio', 'Venus']\n",
      "Estos son los planetas que son más alejados al sol que  Tierra\n",
      "['Marte', 'Júpiter', 'Saturno', 'Urano', 'Neptuno']\n"
     ]
    }
   ],
   "source": [
    "# Creamos la lista planetas y la mostramos\n",
    "planetas = ['Mercurio', 'Venus', 'Tierra', 'Marte', 'Júpiter', 'Saturno', 'Urano','Neptuno']\n",
    "\n",
    "# Solicitar al usuario el nombre de un planeta\n",
    "planeta_usuario = input('Por favor igresa el nombre dek planeta (con letra mayúscula al inicio)')\n",
    "\n",
    "# Buscar el planeta en la lista\n",
    "planeta_index = planetas.index(planeta_usuario)\n",
    "\n",
    "# Mostrar los planetas más cercanos al sol que el que el usuario ingresó\n",
    "print('Estos son los planetas que son más cercanos al sol que ',planeta_usuario)\n",
    "print(planetas[0: planeta_index])\n",
    "\n",
    "# Mostar los planetas más alejados al sol\n",
    "print('Estos son los planetas que son más alejados al sol que ',planeta_usuario)\n",
    "print(planetas[planeta_index + 1:])"
   ]
  }
 ],
 "metadata": {
  "interpreter": {
   "hash": "04635d289a519a1410467dd0afb0db42f9184808881ca68b2eb5a687a20a5a94"
  },
  "kernelspec": {
   "display_name": "Python 3.7.9 64-bit",
   "language": "python",
   "name": "python3"
  },
  "language_info": {
   "codemirror_mode": {
    "name": "ipython",
    "version": 3
   },
   "file_extension": ".py",
   "mimetype": "text/x-python",
   "name": "python",
   "nbconvert_exporter": "python",
   "pygments_lexer": "ipython3",
   "version": "3.7.9"
  },
  "orig_nbformat": 4
 },
 "nbformat": 4,
 "nbformat_minor": 2
}
