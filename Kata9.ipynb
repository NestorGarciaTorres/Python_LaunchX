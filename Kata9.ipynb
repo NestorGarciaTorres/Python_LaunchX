{
 "cells": [
  {
   "cell_type": "markdown",
   "metadata": {},
   "source": [
    "# Uso de funciones en Python\n",
    "## Ejercicio 1: Trabajar con argumentos en funcionmes\n",
    "Construir un informe de combustible que requiere información de varias ubicaciones de combustible en todo el cohete."
   ]
  },
  {
   "cell_type": "code",
   "execution_count": 6,
   "metadata": {},
   "outputs": [
    {
     "name": "stdout",
     "output_type": "stream",
     "text": [
      " \n",
      "    ------------- Reporte de combustible -----------\n",
      "    Promedio total de combustible: 78.33333333333333%\n",
      "    % de combustible en cada tanque:\n",
      "        Tanque 1: 80%\n",
      "        Tanque 2: 70%\n",
      "        Tanque 3: 85%  \n",
      "    \n"
     ]
    }
   ],
   "source": [
    "# Parte 1 del programa\n",
    "# Función para leer 3 tanques de combustible y que muestre el promedio\n",
    "def generar_reporte(tanque1, tanque2, tanque3):\n",
    "    promedio_combustible = (tanque1 + tanque2 + tanque3) / 3\n",
    "    return f\"\"\" \n",
    "    ------------- Reporte de combustible -----------\n",
    "    Promedio total de combustible: {promedio_combustible}%\n",
    "    % de combustible en cada tanque:\n",
    "        Tanque 1: {tanque1} %\n",
    "        Tanque 2: {tanque2} %\n",
    "        Tanque 3: {tanque3} %  \n",
    "    \"\"\"  # Regreso de información con el return\n",
    "\n",
    "# Llamar a la función quye genera el reporte print(function(tanque1, tanque2, tanque3))\n",
    "print(generar_reporte(80,70,85))\n"
   ]
  },
  {
   "cell_type": "code",
   "execution_count": 8,
   "metadata": {},
   "outputs": [
    {
     "name": "stdout",
     "output_type": "stream",
     "text": [
      " \n",
      "    ------------- Reporte de combustible -----------\n",
      "    Promedio total de combustible: 78.0%\n",
      "    % de combustible en cada tanque:\n",
      "        Tanque 1: 68 %\n",
      "        Tanque 2: 78 %\n",
      "        Tanque 3: 88 %  \n",
      "    \n"
     ]
    }
   ],
   "source": [
    "# Parte 2 del programa\n",
    "# Crear una función que permita calcular el promedio de combustible y regrese este valor\n",
    "def promedio(values):\n",
    "    total = sum(values) # Sumar los valores\n",
    "    items = len(values) # Detectar la cantidad de items que existen (3)\n",
    "    return total / items # Calcular el promedio y regresar su valor\n",
    "\n",
    "# Utilizar la función promedio dentro de la función principal que genera el reporte\n",
    "# para eliminar la operacion y utilizar la función en su lugar\n",
    "def generar_reporte(tanque1, tanque2, tanque3):\n",
    "    return f\"\"\" \n",
    "    ------------- Reporte de combustible -----------\n",
    "    Promedio total de combustible: {promedio([tanque1, tanque2, tanque3])}%\n",
    "    % de combustible en cada tanque:\n",
    "        Tanque 1: {tanque1} %\n",
    "        Tanque 2: {tanque2} %\n",
    "        Tanque 3: {tanque3} %  \n",
    "    \"\"\"  \n",
    "\n",
    "# Imprimir el reporte \n",
    "print(generar_reporte(68,78,88))"
   ]
  },
  {
   "cell_type": "markdown",
   "metadata": {},
   "source": [
    "## Ejercicio 2 - Trabajo con argumentos de palabra clave\n",
    "Construir un informe de cohete que requiere varias piezas de información, como el tiempo hasta el destino, el combustible a la izqwuierda y el nombre del destino. Comienza por crear una función que creará un informe preciso de la misión.\n"
   ]
  },
  {
   "cell_type": "code",
   "execution_count": 12,
   "metadata": {},
   "outputs": [
    {
     "name": "stdout",
     "output_type": "stream",
     "text": [
      "\n",
      "    ------------- Reporte de misión -----------\n",
      "    Destino de la misión: Luna\n",
      "    Tiempo total de vuelo: 65 minutos \n",
      "    Combustible restante en la nave: 500000 galones\n",
      "    \n"
     ]
    }
   ],
   "source": [
    "# Parte 1 del programa\n",
    "# Función con un informe de la misión. Considera hora de prelanzamiento, timepo de vuelo, destino, tanque externo y tanque interno\n",
    "def reporte_mision(hora_pre_lanzamiento, tiempo_vuelo, destino, tanque_externo, tanque_principal):\n",
    "    return f\"\"\"\n",
    "    ------------- Reporte de misión -----------\n",
    "    Destino de la misión: {destino}\n",
    "    Tiempo total de vuelo: {hora_pre_lanzamiento + tiempo_vuelo} minutos \n",
    "    Combustible restante en la nave: {tanque_externo + tanque_principal} galones\n",
    "    \"\"\"\n",
    "# Imprimir el reporte\n",
    "print(reporte_mision(14, 51, \"Luna\", 200000, 300000)) # Introducir los valores para cada una de las variables declaradas en la función principal del reporte "
   ]
  },
  {
   "cell_type": "code",
   "execution_count": 15,
   "metadata": {},
   "outputs": [
    {
     "name": "stdout",
     "output_type": "stream",
     "text": [
      "\n",
      "    ------------- Reporte de misión -----------\n",
      "    Destino de la misión: Luna\n",
      "    Tiempo total de vuelo: 76 minutos \n",
      "    Combustible restante en la nave: 500000 galones\n",
      "    \n"
     ]
    }
   ],
   "source": [
    "# Parte 2 del programa\n",
    "# Usar una nueva función utilizadno *args y *kwargs\n",
    "def reporte_mision(destino, *minutos_vuelo, **reservas_combustible): # Variables para el destino, los minutos de vuelo y la cantidad de combustible en cada tanque\n",
    "    return f\"\"\"\n",
    "    ------------- Reporte de misión -----------\n",
    "    Destino de la misión: {destino}\n",
    "    Tiempo total de vuelo: {sum(minutos_vuelo)} minutos \n",
    "    Combustible restante en la nave: {sum(reservas_combustible.values())} galones\n",
    "    \"\"\"\n",
    "\n",
    "# Imprimir el reporte\n",
    "print(reporte_mision(\"Luna\", 10, 15, 51, principal=300000, externo=200000))"
   ]
  },
  {
   "cell_type": "code",
   "execution_count": 18,
   "metadata": {},
   "outputs": [
    {
     "name": "stdout",
     "output_type": "stream",
     "text": [
      "\n",
      "    ------------- Reporte de misión -----------\n",
      "    Destino de la misión: Luna\n",
      "    Tiempo total de vuelo: 74 minutos \n",
      "    Combustible restante en la nave: 500000 galones\n",
      "    Al tanque principal le restan 300000 galones\n",
      "Al tanque externo le restan 200000 galones\n",
      "\n"
     ]
    }
   ],
   "source": [
    "# Parte 3 del programa\n",
    "# Escribir una nueva función para el reporte de la misión\n",
    "# Debido a que el combustible que queda en los tanques es específico de cada tanque, \n",
    "# actualiza la función para usar el nombre de cada tanque en el informe:\n",
    "def reporte_mision(destino, *minutos_vuelo, **reservas_combustible):\n",
    "    reporte_principal = f\"\"\"\n",
    "    ------------- Reporte de misión -----------\n",
    "    Destino de la misión: {destino}\n",
    "    Tiempo total de vuelo: {sum(minutos_vuelo)} minutos \n",
    "    Combustible restante en la nave: {sum(reservas_combustible.values())} galones\n",
    "    \"\"\"\n",
    "    for nombre_tanque, galones in reservas_combustible.items():\n",
    "        reporte_principal += f\"Al tanque {nombre_tanque} le restan {galones} galones\\n\"\n",
    "    return reporte_principal\n",
    "\n",
    "print(reporte_mision(\"Luna\", 8, 11, 55, principal=300000, externo=200000))\n",
    "    "
   ]
  }
 ],
 "metadata": {
  "interpreter": {
   "hash": "04635d289a519a1410467dd0afb0db42f9184808881ca68b2eb5a687a20a5a94"
  },
  "kernelspec": {
   "display_name": "Python 3.7.9 64-bit",
   "language": "python",
   "name": "python3"
  },
  "language_info": {
   "codemirror_mode": {
    "name": "ipython",
    "version": 3
   },
   "file_extension": ".py",
   "mimetype": "text/x-python",
   "name": "python",
   "nbconvert_exporter": "python",
   "pygments_lexer": "ipython3",
   "version": "3.7.9"
  },
  "orig_nbformat": 4
 },
 "nbformat": 4,
 "nbformat_minor": 2
}
