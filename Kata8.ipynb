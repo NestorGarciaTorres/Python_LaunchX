{
 "cells": [
  {
   "cell_type": "markdown",
   "metadata": {},
   "source": [
    "# Ejercicio 1 - Creación de diccionarios de Python\n",
    "Crear un nuevo diccionario denominado 'planet'. \n",
    "1. Rellena con la siguiente información:\n",
    "```\n",
    "name: Mars\n",
    "moons: 2\n",
    "```\n",
    "2. Recuperar los valores.\n",
    "3. Actualizar las claves existentes.\n",
    "4. Agregar un nuevo valor con una clave de 'circunferencia (km)'. Este nuevo valor debería almacenar un diccionario con las dos circunferencias del planeta:\n",
    "```\n",
    "polar: 6752\n",
    "equatorial: 6792\n",
    "```"
   ]
  },
  {
   "cell_type": "code",
   "execution_count": 3,
   "metadata": {},
   "outputs": [
    {
     "name": "stdout",
     "output_type": "stream",
     "text": [
      "marte tiene 2 lunas\n"
     ]
    }
   ],
   "source": [
    "# Parte 1 del programa\n",
    "# Crea un diccionario llamado planet con los datos propuestos\n",
    "planeta = {\n",
    "    'nombre': 'marte',\n",
    "    'lunas': 2\n",
    "}\n",
    "\n",
    "# Mostar el nombre del planeta junto a las lunas que este tiene\n",
    "print(f'{planeta[\"nombre\"]} tiene {planeta[\"lunas\"]} lunas')"
   ]
  },
  {
   "cell_type": "code",
   "execution_count": 4,
   "metadata": {},
   "outputs": [
    {
     "name": "stdout",
     "output_type": "stream",
     "text": [
      "marte tiene una circunferencia polar de 6792\n"
     ]
    }
   ],
   "source": [
    "# Parte 2 del programa\n",
    "# Agregar la clave circunferencia\n",
    "planeta['circunferencia (km)'] = {\n",
    "    'polar': 6792,\n",
    "    'ecuatorial': 6792\n",
    "}\n",
    "\n",
    "# Imprimir el nombre del planeta y su circunferencia\n",
    "print(f'{planeta[\"nombre\"]} tiene una circunferencia polar de {planeta[\"circunferencia (km)\"][\"polar\"]}')"
   ]
  },
  {
   "cell_type": "markdown",
   "metadata": {},
   "source": [
    "# Ejercicio 2 - Programaicón dinámica con diccionarios\n",
    "Calcular tanto el número total de lunas en el sistema solar como el número promedio de lunas que tiene un planeta."
   ]
  },
  {
   "cell_type": "code",
   "execution_count": 6,
   "metadata": {},
   "outputs": [
    {
     "name": "stdout",
     "output_type": "stream",
     "text": [
      "La cantidad total de lunas es de:  214\n",
      "El promedio de lunas por planeta es de:  17.833333333333332\n"
     ]
    }
   ],
   "source": [
    "# Introducir los planetas con el npumero de lunas que tiene cada uno\n",
    "planetas_lunas = {\n",
    "    # 'keys': 'value'\n",
    "    'mercurio': 0,\n",
    "    'venus': 0,\n",
    "    'tierra': 1,\n",
    "    'marte': 2,\n",
    "    'jupiter': 79,\n",
    "    'saturno': 82,\n",
    "    'urano': 27,\n",
    "    'neptuno': 14,\n",
    "    'plutón': 5,\n",
    "    'haumea': 2,\n",
    "    'makemake': 1,\n",
    "    'eris': 1\n",
    "}\n",
    "\n",
    "# Obtener las keys del diccionario y guardarlas en una variable\n",
    "planetas = len(planetas_lunas.keys())\n",
    "# Obtener los valores del diccionario y guardarlos en una variable\n",
    "lunas = planetas_lunas.values() # el método value permite obtener los valores\n",
    "\n",
    "# Calcula el número de lunas totales\n",
    "total_lunas = 0 # Inicializar la varibale en cero\n",
    "for luna in lunas: # Ciclo para obtener cada uno de los datos y sumarlos dentro del ciclo\n",
    "    total_lunas = total_lunas + luna\n",
    "\n",
    "# Calcular el promedio de lunas por planeta\n",
    "promedio = total_lunas / planetas\n",
    "\n",
    "# Imprimir el número de lunas totales y el promedio de lunas por planeta\n",
    "print('La cantidad total de lunas es de: ', total_lunas)\n",
    "print('El promedio de lunas por planeta es de: ',promedio)\n"
   ]
  }
 ],
 "metadata": {
  "interpreter": {
   "hash": "04635d289a519a1410467dd0afb0db42f9184808881ca68b2eb5a687a20a5a94"
  },
  "kernelspec": {
   "display_name": "Python 3.7.9 64-bit",
   "language": "python",
   "name": "python3"
  },
  "language_info": {
   "codemirror_mode": {
    "name": "ipython",
    "version": 3
   },
   "file_extension": ".py",
   "mimetype": "text/x-python",
   "name": "python",
   "nbconvert_exporter": "python",
   "pygments_lexer": "ipython3",
   "version": "3.7.9"
  },
  "orig_nbformat": 4
 },
 "nbformat": 4,
 "nbformat_minor": 2
}
