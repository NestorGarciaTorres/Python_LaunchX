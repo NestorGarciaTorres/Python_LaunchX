{
 "cells": [
  {
   "cell_type": "markdown",
   "metadata": {},
   "source": [
    "# Ejercicio 1 - Creación de un buble \"while\"\n",
    "Crear un programa que solicita a un usuario que infrese una lista de planetas."
   ]
  },
  {
   "cell_type": "code",
   "execution_count": 1,
   "metadata": {},
   "outputs": [],
   "source": [
    "# Declaración de variables (Inicializar vairables) \n",
    "planeta_nuevo = '' \n",
    "planetas = [] # creación de una lista \n",
    "\n",
    "# Ciclo while para solicitar datos al usuario\n",
    "while planeta_nuevo.lower() != 'listo':\n",
    "    if planeta_nuevo:\n",
    "        planetas.append(planeta_nuevo)\n",
    "    planeta_nuevo = input('Por favor introduce un nuevo planeta a la lista')"
   ]
  },
  {
   "cell_type": "markdown",
   "metadata": {},
   "source": [
    "# Ejercicio 2 - Creació de un ciclo \"for\"\n",
    "En el ejercicio anterior se creó un código para solicitar a los usuarios que introduzcan una lista de nombres de planetas. En este ejercicio, se completará la apliación escribiendo código que muetre los nombres de esos planetas."
   ]
  },
  {
   "cell_type": "code",
   "execution_count": 2,
   "metadata": {},
   "outputs": [
    {
     "name": "stdout",
     "output_type": "stream",
     "text": [
      "Los planetas introducidos por el usuario son:\n",
      "Tierra\n"
     ]
    }
   ],
   "source": [
    "# Ciclo for para mostrar los nombres de los planetas que se encuentran en la lista\n",
    "print('Los planetas introducidos por el usuario son:')\n",
    "for planeta in planetas:\n",
    "    print(planeta)"
   ]
  }
 ],
 "metadata": {
  "interpreter": {
   "hash": "04635d289a519a1410467dd0afb0db42f9184808881ca68b2eb5a687a20a5a94"
  },
  "kernelspec": {
   "display_name": "Python 3.7.9 64-bit",
   "language": "python",
   "name": "python3"
  },
  "language_info": {
   "codemirror_mode": {
    "name": "ipython",
    "version": 3
   },
   "file_extension": ".py",
   "mimetype": "text/x-python",
   "name": "python",
   "nbconvert_exporter": "python",
   "pygments_lexer": "ipython3",
   "version": "3.7.9"
  },
  "orig_nbformat": 4
 },
 "nbformat": 4,
 "nbformat_minor": 2
}
