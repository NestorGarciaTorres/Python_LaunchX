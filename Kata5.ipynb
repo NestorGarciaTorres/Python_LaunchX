{
 "cells": [
  {
   "cell_type": "markdown",
   "metadata": {},
   "source": [
    "# Ejercicio 1 - Utilizar operadores aritméticos\n",
    "Crear un programa que pueda calcular la distancia entre dos planetas.  Comenzaremos usando dos distancias de planetas: Tierra (149.597.870 km) y Júpiter (778.547.200 km).\n",
    "\n",
    "Con el código creado, ejecuta el notebook para obtener el resultado. Deberías recibir lo siguiente:\n",
    "\n",
    "```\n",
    "628949330\n",
    "390577534\n",
    "```"
   ]
  },
  {
   "cell_type": "code",
   "execution_count": 5,
   "metadata": {},
   "outputs": [
    {
     "name": "stdout",
     "output_type": "stream",
     "text": [
      "La distancia en kilometros entre la Tierra y Júpiter es de:  628949330  km\n",
      "La distancia en millas entre la Tierra y Júpiteres de:  390577533.93  millas\n"
     ]
    }
   ],
   "source": [
    "# Crear variables para almacenar las dos distancias\n",
    "# ¡Asegúrate de quitar las comas!\n",
    "\n",
    "distancia_Tierra = 149597870\n",
    "distancia_Jupiter = 778547200\n",
    "\n",
    "# Calcular la distancia entre planetas en km\n",
    "distancia_km = distancia_Jupiter - distancia_Tierra\n",
    "print('La distancia en kilometros entre la Tierra y Júpiter es de: ',distancia_km, \" km\")\n",
    "\n",
    "# Calcular la distancia entre planetas en millas\n",
    "distancia_mi = distancia_km * 0.621\n",
    "print('La distancia en millas entre la Tierra y Júpiteres de: ',distancia_mi, \" millas\")"
   ]
  },
  {
   "cell_type": "markdown",
   "metadata": {},
   "source": [
    "# Ejercicio 2 - Convierte cadenas en números y usa valores absolutos\n",
    "Crear un programa que lea la distancia del sol para dos planetas, y luego mostrar la distancia entre los planetas. Haremos esto usando `input` para leer los valores, `int` para convertir a entero y luego `abs` para convertir el resultado en su valor absoluto.\n",
    "\n",
    "1. Leer los valores.\n",
    "2. Convertir las cadenas de ambos planetas a números enteros.\n",
    "3. Realizar el cálculo y convertir a valor absoluto.\n"
   ]
  },
  {
   "cell_type": "code",
   "execution_count": 6,
   "metadata": {},
   "outputs": [
    {
     "name": "stdout",
     "output_type": "stream",
     "text": [
      "La distancia entre planetas es de 628949330  km\n",
      "La distancia entre planetas es de 390577533.93  millas\n"
     ]
    }
   ],
   "source": [
    "# Almacenar las entradas del usuario\n",
    "#Pista: variable = input(\"¿Cuál es tu nombre?\")\n",
    "\n",
    "primer_planeta = input('Por favor, introduzca la distancia del sol para el primer planeta en km')\n",
    "segundo_planeta = input('Por favor, introduzca la distancia del sol para el segundo planeta en km')\n",
    "\n",
    "# Convierte las cadenas de ambos planetas a números enteros\n",
    "primer_planeta = int(primer_planeta)\n",
    "segundo_planeta = int(segundo_planeta)\n",
    "\n",
    "# Realizar el cálculo y determinar el valor absoluto\n",
    "distancia_km = segundo_planeta - primer_planeta\n",
    "print('La distancia entre planetas es de', distancia_km, ' km')\n",
    "\n",
    "# Convertir de kilómetros a\n",
    "distancia_millas = distancia_km * 0.621\n",
    "print('La distancia entre planetas es de', distancia_millas, ' millas')"
   ]
  }
 ],
 "metadata": {
  "interpreter": {
   "hash": "04635d289a519a1410467dd0afb0db42f9184808881ca68b2eb5a687a20a5a94"
  },
  "kernelspec": {
   "display_name": "Python 3.7.9 64-bit",
   "language": "python",
   "name": "python3"
  },
  "language_info": {
   "codemirror_mode": {
    "name": "ipython",
    "version": 3
   },
   "file_extension": ".py",
   "mimetype": "text/x-python",
   "name": "python",
   "nbconvert_exporter": "python",
   "pygments_lexer": "ipython3",
   "version": "3.7.9"
  },
  "orig_nbformat": 4
 },
 "nbformat": 4,
 "nbformat_minor": 2
}
